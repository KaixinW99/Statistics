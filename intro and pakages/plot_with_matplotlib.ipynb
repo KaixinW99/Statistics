{
 "cells": [
  {
   "cell_type": "code",
   "execution_count": 15,
   "metadata": {},
   "outputs": [],
   "source": [
    "import numpy as np\n",
    "import matplotlib.pyplot as plt"
   ]
  },
  {
   "cell_type": "code",
   "execution_count": 16,
   "metadata": {},
   "outputs": [
    {
     "data": {
      "image/png": "[encoded data removed]",
      "text/plain": [
       "<Figure size 432x288 with 1 Axes>"
      ]
     },
     "metadata": {
      "needs_background": "light"
     },
     "output_type": "display_data"
    }
   ],
   "source": [
    "friends = [70,65,83,42,92]\n",
    "minutes = [10,15,12,13,19]\n",
    "labels = ['a','b','c','d','e']\n",
    "plt.scatter(friends,minutes)\n",
    "for label, friend_count, minute_count in zip(labels,friends,minutes):\n",
    "    plt.annotate(label,\n",
    "        xy=(friend_count,minute_count),\n",
    "        xytext=(5,-5),\n",
    "        xycoords='data',     ### default = data ###\n",
    "        textcoords='offset points')\n",
    "plt.title(\"Minutes vs friends\")\n",
    "plt.xlabel(\"# of firends\")\n",
    "plt.ylabel(\"Minutes\")\n",
    "plt.show()"
   ]
  }
 ],
 "metadata": {
  "interpreter": {
   "hash": "aee8b7b246df8f9039afb4144a1f6fd8d2ca17a180786b69acc140d282b71a49"
  },
  "kernelspec": {
   "display_name": "Python 3.9.12 64-bit",
   "language": "python",
   "name": "python3"
  },
  "language_info": {
   "codemirror_mode": {
    "name": "ipython",
    "version": 3
   },
   "file_extension": ".py",
   "mimetype": "text/x-python",
   "name": "python",
   "nbconvert_exporter": "python",
   "pygments_lexer": "ipython3",
   "version": "3.9.12"
  },
  "orig_nbformat": 4
 },
 "nbformat": 4,
 "nbformat_minor": 2
}
