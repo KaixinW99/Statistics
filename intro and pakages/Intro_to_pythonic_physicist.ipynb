{
 "cells": [
  {
   "cell_type": "markdown",
   "id": "31aab670",
   "metadata": {},
   "source": [
    "Fully proposed and organized by Prof. Michael Vershinin\n",
    "\n",
    "It is a quick resume to help you become a pythonic physicist."
   ]
  },
  {
   "cell_type": "code",
   "execution_count": 2,
   "id": "uniform-finder",
   "metadata": {
    "scrolled": false
   },
   "outputs": [
    {
     "name": "stdout",
     "output_type": "stream",
     "text": [
      "Hello world!\n"
     ]
    }
   ],
   "source": [
    "#Just the basic command\n",
    "print(\"Hello world!\") "
   ]
  },
  {
   "cell_type": "code",
   "execution_count": 3,
   "id": "furnished-business",
   "metadata": {
    "scrolled": false
   },
   "outputs": [
    {
     "name": "stdout",
     "output_type": "stream",
     "text": [
      "Hello world!\n"
     ]
    }
   ],
   "source": [
    "#define the string with \"\", store in a variable, then output\n",
    "str=\"Hello world!\"\n",
    "print(str)"
   ]
  },
  {
   "cell_type": "code",
   "execution_count": 4,
   "id": "historic-disposition",
   "metadata": {
    "scrolled": true
   },
   "outputs": [
    {
     "name": "stdout",
     "output_type": "stream",
     "text": [
      "Hello world!\n"
     ]
    }
   ],
   "source": [
    "#define the string with '', store in a variable, then output\n",
    "str='Hello world!'\n",
    "print(str)"
   ]
  },
  {
   "cell_type": "code",
   "execution_count": 5,
   "id": "moving-malpractice",
   "metadata": {
    "scrolled": false
   },
   "outputs": [
    {
     "name": "stdout",
     "output_type": "stream",
     "text": [
      "Hello world!\n"
     ]
    }
   ],
   "source": [
    "#String concatenation\n",
    "str1=\"Hello\"; str2=\" \"; str3=\"world!\"\n",
    "print(str1+str2+str3)"
   ]
  },
  {
   "cell_type": "code",
   "execution_count": 6,
   "id": "durable-catalog",
   "metadata": {
    "scrolled": false
   },
   "outputs": [
    {
     "name": "stdout",
     "output_type": "stream",
     "text": [
      "H e l l o   w o r l d !\n"
     ]
    }
   ],
   "source": [
    "#Assemble a string from characters\n",
    "#Notice the different kerning\n",
    "print(chr(72),chr(101),chr(108),chr(108),chr(111),chr(32),chr(119),chr(111),chr(114),chr(108),chr(100),chr(33))"
   ]
  },
  {
   "cell_type": "code",
   "execution_count": 7,
   "id": "exceptional-universe",
   "metadata": {
    "scrolled": false
   },
   "outputs": [
    {
     "name": "stdout",
     "output_type": "stream",
     "text": [
      "Hello world!\n"
     ]
    }
   ],
   "source": [
    "#Back to kerning as a single string\n",
    "print(chr(72)+chr(101)+chr(108)+chr(108)+chr(111)+chr(32)+chr(119)+chr(111)+chr(114)+chr(108)+chr(100)+chr(33))"
   ]
  },
  {
   "cell_type": "code",
   "execution_count": 8,
   "id": "aware-quarter",
   "metadata": {},
   "outputs": [
    {
     "name": "stdout",
     "output_type": "stream",
     "text": [
      "Hello world!\n",
      "Hello world!\n"
     ]
    }
   ],
   "source": [
    "#String indexing\n",
    "str=\"Hello wonderful world!\"\n",
    "#The usual indexing\n",
    "print(str[0:6]+str[16:22])\n",
    "#A couple of nice shortcuts\n",
    "print(str[:6]+str[-6:])"
   ]
  },
  {
   "cell_type": "code",
   "execution_count": 9,
   "id": "inner-weight",
   "metadata": {},
   "outputs": [],
   "source": [
    "#this is a comment\n",
    "#this is another comment\n",
    "#But I cannot block quote all of these in a standard way :("
   ]
  },
  {
   "cell_type": "code",
   "execution_count": 10,
   "id": "violent-walter",
   "metadata": {
    "scrolled": true
   },
   "outputs": [
    {
     "name": "stdout",
     "output_type": "stream",
     "text": [
      "1e-10\n",
      "<class 'float'>\n"
     ]
    }
   ],
   "source": [
    "#OK, that was strings. Now lets talk about numbers\n",
    "#Python' default data type for floats is... float\n",
    "#This usually defaults to double precision\n",
    "x=1e-10; \n",
    "print(x); \n",
    "#I can ask pyhton explicitly what the data type is\n",
    "print(type(x))"
   ]
  },
  {
   "cell_type": "code",
   "execution_count": 11,
   "id": "exposed-silly",
   "metadata": {
    "scrolled": true
   },
   "outputs": [
    {
     "name": "stdout",
     "output_type": "stream",
     "text": [
      "1.0\n"
     ]
    }
   ],
   "source": [
    "#So... we can do basic math\n",
    "print(1e10*x)"
   ]
  },
  {
   "cell_type": "code",
   "execution_count": 12,
   "id": "documentary-dayton",
   "metadata": {
    "scrolled": true
   },
   "outputs": [
    {
     "name": "stdout",
     "output_type": "stream",
     "text": [
      "(1e-10+1j)\n",
      "(-1+1e-10j)\n"
     ]
    }
   ],
   "source": [
    "#We can also work with complex numbers, using j as imaginary unity\n",
    "print(x+1j)\n",
    "print((x+1j)*1j)"
   ]
  },
  {
   "cell_type": "code",
   "execution_count": 13,
   "id": "characteristic-neutral",
   "metadata": {
    "scrolled": true
   },
   "outputs": [
    {
     "name": "stdout",
     "output_type": "stream",
     "text": [
      "inf\n",
      "-inf\n"
     ]
    }
   ],
   "source": [
    "#We can also work with plus or minus infinity\n",
    "print(float('inf'))\n",
    "print(float('-inf'))"
   ]
  },
  {
   "cell_type": "code",
   "execution_count": 14,
   "id": "medium-canyon",
   "metadata": {},
   "outputs": [
    {
     "name": "stdout",
     "output_type": "stream",
     "text": [
      "nan\n"
     ]
    }
   ],
   "source": [
    "#Let's try...\n",
    "print(float('-inf')+float('inf'))"
   ]
  },
  {
   "cell_type": "code",
   "execution_count": 15,
   "id": "south-television",
   "metadata": {},
   "outputs": [
    {
     "name": "stdout",
     "output_type": "stream",
     "text": [
      "nan\n"
     ]
    }
   ],
   "source": [
    "#So we now learned that we can represent non-sensical values as nan\n",
    "#nan stands for \"not a number\"\n",
    "print(float('nan')+1)"
   ]
  },
  {
   "cell_type": "code",
   "execution_count": 16,
   "id": "frozen-bleeding",
   "metadata": {},
   "outputs": [],
   "source": [
    "#There is actually a nice core python package called math\n",
    "#which defines a lot of useful functions and constants\n",
    "#But to use it, we need to tell python that we need access \n",
    "import math"
   ]
  },
  {
   "cell_type": "code",
   "execution_count": 17,
   "id": "resident-metallic",
   "metadata": {},
   "outputs": [
    {
     "name": "stdout",
     "output_type": "stream",
     "text": [
      "nan\n",
      "3.141592653589793\n",
      "2.718281828459045\n"
     ]
    }
   ],
   "source": [
    "#Now I can use a lot of predefined constants easily\n",
    "print(math.nan+1)\n",
    "print(math.pi)\n",
    "print(math.e)"
   ]
  },
  {
   "cell_type": "code",
   "execution_count": 18,
   "id": "intimate-blanket",
   "metadata": {},
   "outputs": [
    {
     "name": "stdout",
     "output_type": "stream",
     "text": [
      "3.141592653589793\n"
     ]
    }
   ],
   "source": [
    "#If I need to use e.g. pi a lot, typing math.pi gets tiresome\n",
    "#So instead I can do the following\n",
    "from math import pi\n",
    "print(pi)"
   ]
  },
  {
   "cell_type": "code",
   "execution_count": 19,
   "id": "premier-salad",
   "metadata": {},
   "outputs": [
    {
     "name": "stdout",
     "output_type": "stream",
     "text": [
      "3.14\n"
     ]
    }
   ],
   "source": [
    "#Perhaps I do not need to see quite so many digits\n",
    "print(\"%.2f\" % pi)\n",
    "#Yes, print() allows output formatting"
   ]
  },
  {
   "cell_type": "code",
   "execution_count": 20,
   "id": "joint-values",
   "metadata": {},
   "outputs": [
    {
     "name": "stdout",
     "output_type": "stream",
     "text": [
      "1642722151.3173099\n"
     ]
    }
   ],
   "source": [
    "#Let's talk about time. There is a package which has some relevant stuff\n",
    "import time\n",
    "print(time.time())"
   ]
  },
  {
   "cell_type": "code",
   "execution_count": 21,
   "id": "lyric-detroit",
   "metadata": {},
   "outputs": [
    {
     "name": "stdout",
     "output_type": "stream",
     "text": [
      "time.struct_time(tm_year=2022, tm_mon=1, tm_mday=20, tm_hour=16, tm_min=42, tm_sec=31, tm_wday=3, tm_yday=20, tm_isdst=0)\n"
     ]
    }
   ],
   "source": [
    "#What was that????\n",
    "#Oh nothing. Just... our time was in seconds from the beginning of epoch\n",
    "#Let's format it using the human-parseable layout\n",
    "from time import time, ctime, localtime, gmtime\n",
    "print(localtime(time()))\n",
    "#If you look closely, this output actually is informative"
   ]
  },
  {
   "cell_type": "code",
   "execution_count": 22,
   "id": "brutal-commodity",
   "metadata": {},
   "outputs": [
    {
     "name": "stdout",
     "output_type": "stream",
     "text": [
      "20\n"
     ]
    }
   ],
   "source": [
    "#And now I can find out the day of the month easily\n",
    "print(localtime(time()).tm_mday)"
   ]
  },
  {
   "cell_type": "code",
   "execution_count": 23,
   "id": "alike-campus",
   "metadata": {},
   "outputs": [
    {
     "name": "stdout",
     "output_type": "stream",
     "text": [
      "20\n"
     ]
    }
   ],
   "source": [
    "#Be careful. This time is in your local timezone\n",
    "#Use gmtime for UTC reference time\n",
    "print(gmtime(time()).tm_mday)"
   ]
  },
  {
   "cell_type": "code",
   "execution_count": 24,
   "id": "treated-ladder",
   "metadata": {},
   "outputs": [
    {
     "name": "stdout",
     "output_type": "stream",
     "text": [
      "39.4 µs ± 724 ns per loop (mean ± std. dev. of 7 runs, 10000 loops each)\n",
      "38.5 ms ± 831 µs per loop (mean ± std. dev. of 7 runs, 10 loops each)\n"
     ]
    }
   ],
   "source": [
    "#Wait! I don't care about calendar. I just want to time code execution\n",
    "#So... python is kinda crazy sometimes. The relevant stuff is not\n",
    "#in the module time. It is in the module timeit\n",
    "#We will explore how it works by timing Python's random bit generator\n",
    "import timeit\n",
    "import random as rnd\n",
    "%timeit x=rnd.getrandbits(100000)\n",
    "%timeit x=rnd.getrandbits(100000000)\n",
    "#Did you notice how lazy I am? Typing random is too much work \n",
    "#so I renamed the namespace to rnd. Three characters saved on every line!"
   ]
  },
  {
   "cell_type": "code",
   "execution_count": 25,
   "id": "rotary-times",
   "metadata": {},
   "outputs": [
    {
     "name": "stdout",
     "output_type": "stream",
     "text": [
      "99\n"
     ]
    }
   ],
   "source": [
    "#Great. Now let's talk about control flow.\n",
    "#One of the easiest ways to indefinitely pause execution in Python \n",
    "#is to ask for user input. The code just hangs there until the user\n",
    "#enters something. Let's start by blindly trusting the user to\n",
    "#enter the right thing. \n",
    "x = int(input(\"Please enter an integer: \"))\n",
    "print(x)"
   ]
  },
  {
   "cell_type": "code",
   "execution_count": 26,
   "id": "solar-garden",
   "metadata": {},
   "outputs": [
    {
     "name": "stdout",
     "output_type": "stream",
     "text": [
      "Positive\n"
     ]
    }
   ],
   "source": [
    "#Let's make some conditional choices\n",
    "if x < 0:\n",
    "    print('Negative')\n",
    "elif x == 0:\n",
    "    print('Zero')\n",
    "else: \n",
    "    print('Positive')\n",
    "#Notice how python knows which block to execute AND it's scope\n",
    "#by indentation alone. No need for curly braces or anything like it\n",
    "#But python is braindead and accepts both empty spaces and tabs\n",
    "#as a way to encode indents. Never use tabs because different IDEs\n",
    "#can consider tabs as either 4 or 8 spaces and so your code will not\n",
    "#be portable, shareable, or easily auditable if you use tabs"
   ]
  },
  {
   "cell_type": "code",
   "execution_count": 27,
   "id": "spread-genesis",
   "metadata": {},
   "outputs": [
    {
     "name": "stdout",
     "output_type": "stream",
     "text": [
      "Non-negative\n"
     ]
    }
   ],
   "source": [
    "#You can use shorthand\n",
    "print(\"Non-negative\") if x >= 0 else print(\"Negative\")"
   ]
  },
  {
   "cell_type": "code",
   "execution_count": 28,
   "id": "waiting-following",
   "metadata": {},
   "outputs": [
    {
     "name": "stdout",
     "output_type": "stream",
     "text": [
      "+\n"
     ]
    }
   ],
   "source": [
    "#or even the ever ugly and unreadable\n",
    "print(\"+\") if x > 0 else print(\"0\") if x == 0 else print(\"-\") \n",
    "#Please don't use shorthands. They make your collaborators cry.\n",
    "#When in doubt, err on the side of readability"
   ]
  },
  {
   "cell_type": "code",
   "execution_count": 29,
   "id": "fantastic-prisoner",
   "metadata": {
    "scrolled": false
   },
   "outputs": [
    {
     "name": "stdout",
     "output_type": "stream",
     "text": [
      "H\n",
      "e\n",
      "l\n",
      "l\n",
      "o\n",
      " \n",
      "w\n",
      "o\n",
      "r\n",
      "l\n",
      "d\n",
      "!\n"
     ]
    }
   ],
   "source": [
    "#Now the for loop\n",
    "#This does not work like for loops in other languages\n",
    "#In python, it is just an iterator over some collection\n",
    "#For example, let's go through all letters in a string\n",
    "for x in \"Hello world!\":\n",
    "    print(x)"
   ]
  },
  {
   "cell_type": "code",
   "execution_count": 30,
   "id": "indoor-credit",
   "metadata": {},
   "outputs": [
    {
     "name": "stdout",
     "output_type": "stream",
     "text": [
      "Hello "
     ]
    }
   ],
   "source": [
    "#Notice how indentation is used similarly here as above\n",
    "#So we can do more within the scope of the loop\n",
    "for x in \"Hello world!\":\n",
    "    print(x,end = '')\n",
    "    if x == \" \":\n",
    "        break\n",
    "#Notice: I can teleport out of a loop using the break command\n",
    "#Notice: I indent inner conditional scope more than outer loop scope"
   ]
  },
  {
   "cell_type": "code",
   "execution_count": 31,
   "id": "round-advance",
   "metadata": {},
   "outputs": [
    {
     "name": "stdout",
     "output_type": "stream",
     "text": [
      "1\n",
      "2\n",
      "3\n"
     ]
    }
   ],
   "source": [
    "#The while loop in python is also peculiar but not too much\n",
    "i = 1\n",
    "while i < 6:\n",
    "    print(i)\n",
    "    if i == 3:\n",
    "        break\n",
    "    i += 1 \n",
    "#Continue and else clauses exist but are rarely useful"
   ]
  },
  {
   "cell_type": "code",
   "execution_count": 32,
   "id": "assumed-region",
   "metadata": {},
   "outputs": [
    {
     "name": "stdout",
     "output_type": "stream",
     "text": [
      "99\n"
     ]
    }
   ],
   "source": [
    "#The other major flow control is exception handling\n",
    "x = input(\"Please enter an integer: \")\n",
    "try:\n",
    "    print(int(x))\n",
    "except:\n",
    "    print(\"Your entry was invalid\")"
   ]
  },
  {
   "cell_type": "code",
   "execution_count": 33,
   "id": "preliminary-retailer",
   "metadata": {},
   "outputs": [
    {
     "name": "stdout",
     "output_type": "stream",
     "text": [
      "The variable is not defined\n"
     ]
    }
   ],
   "source": [
    "#Many exceptions can be handled specifically, by name\n",
    "try:\n",
    "    print(some_variable)\n",
    "except NameError:\n",
    "    print(\"The variable is not defined\")"
   ]
  },
  {
   "cell_type": "code",
   "execution_count": 34,
   "id": "transsexual-intelligence",
   "metadata": {},
   "outputs": [
    {
     "name": "stdout",
     "output_type": "stream",
     "text": [
      "Hello world!\n"
     ]
    }
   ],
   "source": [
    "#We can also segregate chunks of code into functions\n",
    "def echo(string):\n",
    "    #As the bane implies\n",
    "    #This function echos the argument to stdout\n",
    "    print(string)\n",
    "#Now we can call this function    \n",
    "echo('Hello world!')"
   ]
  },
  {
   "cell_type": "code",
   "execution_count": 35,
   "id": "perfect-belize",
   "metadata": {},
   "outputs": [
    {
     "name": "stdout",
     "output_type": "stream",
     "text": [
      "Something went wrong\n"
     ]
    }
   ],
   "source": [
    "#But the reverse order does not work\n",
    "try:\n",
    "    echo1('Hello world!')\n",
    "    def echo1(string):\n",
    "        #As the bane implies\n",
    "        #This function echos the argument to stdout\n",
    "        print(string)\n",
    "except:\n",
    "    print(\"Something went wrong\")"
   ]
  },
  {
   "cell_type": "code",
   "execution_count": 36,
   "id": "integrated-feedback",
   "metadata": {},
   "outputs": [
    {
     "name": "stdout",
     "output_type": "stream",
     "text": [
      "2.23606797749979\n"
     ]
    }
   ],
   "source": [
    "#Functions can of course return values \n",
    "import math\n",
    "def mag(num):\n",
    "    #Return absolute value of a complex number\n",
    "    return math.sqrt(num.real*num.real+num.imag*num.imag)\n",
    "\n",
    "print(mag(2+1j))"
   ]
  },
  {
   "cell_type": "code",
   "execution_count": 37,
   "id": "common-myrtle",
   "metadata": {},
   "outputs": [
    {
     "name": "stdout",
     "output_type": "stream",
     "text": [
      "Value inside function: 10\n",
      "Value outside function: 20\n"
     ]
    }
   ],
   "source": [
    "#Functions have their own scope even if variable names collide\n",
    "def my_func():\n",
    "    x = 10\n",
    "    print(\"Value inside function:\",x)\n",
    "\n",
    "x = 20\n",
    "my_func()\n",
    "print(\"Value outside function:\",x)"
   ]
  },
  {
   "cell_type": "code",
   "execution_count": 38,
   "id": "quiet-exhibition",
   "metadata": {},
   "outputs": [
    {
     "name": "stdout",
     "output_type": "stream",
     "text": [
      "11\n",
      "<function <lambda> at 0x107a5d0d0>\n"
     ]
    }
   ],
   "source": [
    "#Python functions can be arguments for other functions and\n",
    "#operations (which is handy e.g. for minimization routines)\n",
    "#For more information, look up functools.py\n",
    "#However, there is a simple way to see how a function can be \n",
    "#an argument for another function without functools\n",
    "#\n",
    "#Pyhton allows anonymous functions, aka lambda functions\n",
    "#The syntax is \n",
    "#lambda arguments : expression\n",
    "x = lambda a : a + 1\n",
    "print(x(10)) \n",
    "print(x)"
   ]
  },
  {
   "cell_type": "code",
   "execution_count": 39,
   "id": "active-cabin",
   "metadata": {},
   "outputs": [
    {
     "name": "stdout",
     "output_type": "stream",
     "text": [
      "19\n"
     ]
    }
   ],
   "source": [
    "#or with multiple arguments\n",
    "x = lambda a,b : a + b\n",
    "print(x(10,9)) "
   ]
  },
  {
   "cell_type": "code",
   "execution_count": 40,
   "id": "worst-complex",
   "metadata": {},
   "outputs": [],
   "source": [
    "#Let's see how we can use a lambda function inside a return statement\n",
    "#to be passed back to the caller\n",
    "def myfunc(n):\n",
    "    return lambda a : a * n"
   ]
  },
  {
   "cell_type": "code",
   "execution_count": 41,
   "id": "foreign-mountain",
   "metadata": {},
   "outputs": [
    {
     "name": "stdout",
     "output_type": "stream",
     "text": [
      "22\n",
      "<function myfunc at 0x107a5d550>\n",
      "<function myfunc.<locals>.<lambda> at 0x107a5d430>\n",
      "22\n"
     ]
    }
   ],
   "source": [
    "#Now we set the value of n to 2 and get back a function \n",
    "#which doubles its imput\n",
    "mydoubler = myfunc(2)\n",
    "print(mydoubler(11))\n",
    "\n",
    "print(myfunc)\n",
    "print(myfunc(2))\n",
    "print(myfunc(2)(11))"
   ]
  },
  {
   "cell_type": "code",
   "execution_count": 42,
   "id": "democratic-fever",
   "metadata": {},
   "outputs": [
    {
     "name": "stdout",
     "output_type": "stream",
     "text": [
      "33\n"
     ]
    }
   ],
   "source": [
    "#or we can make a function that triples its input\n",
    "mytripler = myfunc(3)\n",
    "print(mytripler(11))"
   ]
  },
  {
   "cell_type": "code",
   "execution_count": 43,
   "id": "offshore-slovenia",
   "metadata": {
    "scrolled": true
   },
   "outputs": [
    {
     "name": "stdout",
     "output_type": "stream",
     "text": [
      "[[0. 0. 0.]\n",
      " [0. 0. 0.]\n",
      " [0. 0. 0.]]\n"
     ]
    }
   ],
   "source": [
    "#Defining matrices\n",
    "#You can use some core data types from Python to define arrays\n",
    "#but working with these is often cumbersome and slow for scientific needs\n",
    "#So we will use the 3rd party package numpy\n",
    "import numpy as np\n",
    "#We define the desired matrix size as a simple tuple \n",
    "sz=(3,3)\n",
    "#Then we pass it as an argument to the zeros function\n",
    "#which not only creates the array of desired size\n",
    "#but fully initializes all relevant memory to zero\n",
    "x = np.zeros(sz)\n",
    "print(x)"
   ]
  },
  {
   "cell_type": "code",
   "execution_count": 44,
   "id": "variable-covering",
   "metadata": {
    "scrolled": true
   },
   "outputs": [
    {
     "name": "stdout",
     "output_type": "stream",
     "text": [
      "[[0 0 0]\n",
      " [0 0 0]\n",
      " [0 0 0]]\n",
      "[[False False False]\n",
      " [False False False]\n",
      " [False False False]]\n"
     ]
    }
   ],
   "source": [
    "#Notice how the zeros about were double precision floats\n",
    "#What if we want a different data type?\n",
    "y = np.zeros(sz,int)\n",
    "print(y)\n",
    "z = np.zeros(sz,bool)\n",
    "print(z)\n"
   ]
  },
  {
   "cell_type": "code",
   "execution_count": 45,
   "id": "tropical-federation",
   "metadata": {
    "scrolled": true
   },
   "outputs": [
    {
     "name": "stdout",
     "output_type": "stream",
     "text": [
      "[[ True  True  True]\n",
      " [ True  True  True]\n",
      " [ True  True  True]]\n"
     ]
    }
   ],
   "source": [
    "#Booleans in Python are false if the numerical value is zero\n",
    "#and true otherwise\n",
    "z1=np.ones(sz,bool)\n",
    "print(z1)\n",
    "#Don't use ones() to initialize an array\n",
    "#It will call zeros() first then set all entries to 1\n",
    "#Call ones() only if you actually need a matrix full of 1"
   ]
  },
  {
   "cell_type": "code",
   "execution_count": 46,
   "id": "spanish-cleveland",
   "metadata": {
    "scrolled": true
   },
   "outputs": [
    {
     "name": "stdout",
     "output_type": "stream",
     "text": [
      "[[1. 0. 0.]\n",
      " [0. 1. 0.]\n",
      " [0. 0. 1.]]\n"
     ]
    }
   ],
   "source": [
    "#You might think that something like np.eye(sz) should work\n",
    "#Just to keep syntax consistent for different initializing routines.\n",
    "#But Python is not so consistent. Instead of a tuple argument, eye()\n",
    "#wants integer dimensions. Luckily, we only need one for identity\n",
    "#matrix since it is square\n",
    "z2=np.eye(sz[1])\n",
    "print(z2)"
   ]
  },
  {
   "cell_type": "code",
   "execution_count": 47,
   "id": "straight-defendant",
   "metadata": {
    "scrolled": true
   },
   "outputs": [
    {
     "name": "stdout",
     "output_type": "stream",
     "text": [
      "[[ True False False]\n",
      " [False  True False]\n",
      " [False False  True]]\n"
     ]
    }
   ],
   "source": [
    "#Oh. Beware! eye() does not allow you to set data type \n",
    "#so I cannot start out with booleans but that's an easy fix\n",
    "print(z2!=0)"
   ]
  },
  {
   "cell_type": "code",
   "execution_count": 48,
   "id": "focused-cinema",
   "metadata": {
    "scrolled": true
   },
   "outputs": [
    {
     "name": "stdout",
     "output_type": "stream",
     "text": [
      "[[[0. 0.]\n",
      "  [0. 0.]]\n",
      "\n",
      " [[0. 0.]\n",
      "  [0. 0.]]]\n"
     ]
    }
   ],
   "source": [
    "#By the way, numpy arrays can have more than two dimensions\n",
    "sz1=(2,2,2)\n",
    "print(np.zeros(sz1))\n",
    "#Python makes a distinction between arrays (multidimensional)\n",
    "#and matrices (2D). Matrix data type is a special subset of\n",
    "#ndarray data type and allows various matrix math which is not\n",
    "#defined in higher dimensions (see below)"
   ]
  },
  {
   "cell_type": "code",
   "execution_count": 49,
   "id": "laden-bonus",
   "metadata": {
    "scrolled": true
   },
   "outputs": [
    {
     "name": "stdout",
     "output_type": "stream",
     "text": [
      "[[False  True  True]\n",
      " [ True False  True]\n",
      " [ True  True False]]\n"
     ]
    }
   ],
   "source": [
    "#We can apply logical operators to arrays (elementwise)\n",
    "print(np.logical_xor(z1, z2!=0))"
   ]
  },
  {
   "cell_type": "code",
   "execution_count": 50,
   "id": "amended-apple",
   "metadata": {
    "scrolled": true
   },
   "outputs": [
    {
     "name": "stdout",
     "output_type": "stream",
     "text": [
      "[1 2 3 4 5 6 7 8 9]\n",
      "[[1 2 3]\n",
      " [4 5 6]\n",
      " [7 8 9]]\n"
     ]
    }
   ],
   "source": [
    "#Here is another common way to initialize a matrix\n",
    "x=np.arange(1,10); print(x)\n",
    "x=np.reshape(x,(3,3)); print(x)"
   ]
  },
  {
   "cell_type": "code",
   "execution_count": 51,
   "id": "demonstrated-bacteria",
   "metadata": {
    "scrolled": true
   },
   "outputs": [
    {
     "name": "stdout",
     "output_type": "stream",
     "text": [
      "[[False False False]\n",
      " [False  True  True]\n",
      " [ True  True  True]]\n",
      "[5 6 7 8 9]\n"
     ]
    }
   ],
   "source": [
    "#We already know how to get values from an array via normal indexing\n",
    "#But another useful trick is to use logical indexing\n",
    "print(x>=5)\n",
    "print(x[x>=5])\n",
    "#Here x>=5 is a boolean array with the same dimensions as x\n",
    "#Only the values of x for which the corresponding boolean is true\n",
    "#get copied from x into the answer"
   ]
  },
  {
   "cell_type": "code",
   "execution_count": 52,
   "id": "established-alignment",
   "metadata": {
    "scrolled": true
   },
   "outputs": [
    {
     "name": "stdout",
     "output_type": "stream",
     "text": [
      "[[5]\n",
      " [6]\n",
      " [7]\n",
      " [8]\n",
      " [9]]\n"
     ]
    }
   ],
   "source": [
    "#Of course I can get the same answer via normal indexing\n",
    "x=np.reshape(x,(9,1)); print(x[4:])\n",
    "#Well, actually no. As you just saw, this gets me a column vector"
   ]
  },
  {
   "cell_type": "code",
   "execution_count": 53,
   "id": "certain-microwave",
   "metadata": {},
   "outputs": [
    {
     "name": "stdout",
     "output_type": "stream",
     "text": [
      "[5 6 7 8 9]\n"
     ]
    }
   ],
   "source": [
    "#So let's be more careful\n",
    "x=np.reshape(x,(1,9)); print(x[0][4:])\n",
    "#So, the lesson is: be careful about row first vs column first\n",
    "#indexing order for arrays. Python defaults to C convention:\n",
    "#row-major ordering\n",
    "#In the first case we got 9 rows because 9 was the first index.\n",
    "#Beware! This convention is different from matlab and fortran."
   ]
  },
  {
   "cell_type": "code",
   "execution_count": 54,
   "id": "widespread-delight",
   "metadata": {
    "scrolled": true
   },
   "outputs": [
    {
     "name": "stdout",
     "output_type": "stream",
     "text": [
      "The rank is\n",
      " 2  (which is less than 3)\n",
      "So of course the determinant is\n",
      " 0.0\n"
     ]
    }
   ],
   "source": [
    "#Now we can have somelinear algebra fun with matrices\n",
    "#matrix basics\n",
    "from numpy import linalg as LA\n",
    "from numpy import matrix as M\n",
    "x=np.reshape(x,(3,3));\n",
    "print('The rank is\\n',LA.matrix_rank(x),' (which is less than 3)') \n",
    "print('So of course the determinant is\\n',LA.det(x))"
   ]
  },
  {
   "cell_type": "code",
   "execution_count": 55,
   "id": "other-divide",
   "metadata": {
    "scrolled": true
   },
   "outputs": [
    {
     "name": "stdout",
     "output_type": "stream",
     "text": [
      "[1. 1. 1.]\n"
     ]
    }
   ],
   "source": [
    "#We can also find the eigenvalues\n",
    "print(LA.eigvals(z2))"
   ]
  },
  {
   "cell_type": "code",
   "execution_count": 56,
   "id": "medieval-attempt",
   "metadata": {},
   "outputs": [
    {
     "name": "stdout",
     "output_type": "stream",
     "text": [
      "rot90\n",
      " [[0. 0. 1.]\n",
      " [0. 1. 0.]\n",
      " [1. 0. 0.]]\n"
     ]
    }
   ],
   "source": [
    "#We can rotate the matrix\n",
    "print(\"rot90\\n\",np.rot90(z2))"
   ]
  },
  {
   "cell_type": "code",
   "execution_count": 57,
   "id": "sunset-maker",
   "metadata": {},
   "outputs": [
    {
     "name": "stdout",
     "output_type": "stream",
     "text": [
      "transpose\n",
      " [[1. 0. 0.]\n",
      " [0. 1. 0.]\n",
      " [0. 0. 1.]]\n"
     ]
    }
   ],
   "source": [
    "#transpose\n",
    "print(\"transpose\\n\",np.mat(z2).T)\n",
    "#Notice how transpose is only defined for 2D arrays\n",
    "#So we told python our data was 2D by casting the ndarray\n",
    "#into a matrix data type and then used its T attribute"
   ]
  },
  {
   "cell_type": "code",
   "execution_count": 58,
   "id": "needed-auction",
   "metadata": {},
   "outputs": [
    {
     "name": "stdout",
     "output_type": "stream",
     "text": [
      "Hermitian conjugate\n",
      " [[1. 0. 0.]\n",
      " [0. 1. 0.]\n",
      " [0. 0. 1.]]\n"
     ]
    }
   ],
   "source": [
    "#Hermitian conjugate\n",
    "print(\"Hermitian conjugate\\n\",np.mat(z2).H)\n",
    "#Notice how Hermitian conjugate is only defined for 2D arrays\n",
    "#So we told python our data was 2D by casting the ndarray\n",
    "#into a matrix data type and then used its H attribute"
   ]
  },
  {
   "cell_type": "code",
   "execution_count": 72,
   "id": "therapeutic-level",
   "metadata": {},
   "outputs": [
    {
     "name": "stdout",
     "output_type": "stream",
     "text": [
      "Elementwise inverse\n",
      " [[0.5 1.  1. ]\n",
      " [1.  0.5 1. ]\n",
      " [1.  1.  0.5]]\n",
      "Whole matrix inverse\n",
      " [[1. 0. 0.]\n",
      " [0. 1. 0.]\n",
      " [0. 0. 1.]]\n"
     ]
    }
   ],
   "source": [
    "#matrix-wise vs elements-wise\n",
    "print(\"Elementwise inverse\\n\",np.reciprocal(z2+1))\n",
    "print(\"Whole matrix inverse\\n\",np.mat(z2).I) "
   ]
  },
  {
   "cell_type": "code",
   "execution_count": 60,
   "id": "velvet-coordinator",
   "metadata": {},
   "outputs": [
    {
     "name": "stdout",
     "output_type": "stream",
     "text": [
      "Elementwise ^3\n",
      " [[8. 1. 1.]\n",
      " [1. 8. 1.]\n",
      " [1. 1. 8.]]\n",
      "Whole matrix ^3\n",
      " [[22. 21. 21.]\n",
      " [21. 22. 21.]\n",
      " [21. 21. 22.]]\n"
     ]
    }
   ],
   "source": [
    "#matrix-wise vs elements-wise\n",
    "print(\"Elementwise ^3\\n\",np.power(z2+1,3))\n",
    "print(\"Whole matrix ^3\\n\",LA.matrix_power(z2+1,3))"
   ]
  },
  {
   "cell_type": "code",
   "execution_count": 61,
   "id": "laughing-syntax",
   "metadata": {},
   "outputs": [
    {
     "name": "stdout",
     "output_type": "stream",
     "text": [
      "Elementwise multiplication\n",
      " [[4. 1. 1.]\n",
      " [1. 4. 1.]\n",
      " [1. 1. 4.]]\n",
      "Whole matrix multiplication\n",
      " [[6. 5. 5.]\n",
      " [5. 6. 5.]\n",
      " [5. 5. 6.]]\n"
     ]
    }
   ],
   "source": [
    "#matrix-wise vs elements-wise\n",
    "print(\"Elementwise multiplication\\n\",(z2+1)*(z2+1))\n",
    "print(\"Whole matrix multiplication\\n\",np.dot((z2+1),(z2+1)))"
   ]
  },
  {
   "cell_type": "code",
   "execution_count": 62,
   "id": "external-shift",
   "metadata": {},
   "outputs": [
    {
     "name": "stdout",
     "output_type": "stream",
     "text": [
      "[[0.92371634 0.43187018 0.09394485]\n",
      " [0.94100628 0.66324192 0.07077429]\n",
      " [0.57997633 0.67693391 0.90490495]]\n",
      "SVD_u\n",
      " [[-0.52347427  0.42518273  0.73837276]\n",
      " [-0.59581376  0.43681665 -0.67394153]\n",
      " [-0.60908182 -0.7927237   0.02466744]]\n",
      "SVD_s\n",
      " [[1.85308738 0.         0.        ]\n",
      " [0.         0.73505199 0.        ]\n",
      " [0.         0.         0.13495104]]\n",
      "SVD_vh\n",
      " [[-0.75412486 -0.55774473 -0.34672253]\n",
      " [ 0.468041   -0.08609282 -0.87950307]\n",
      " [ 0.46068788 -0.82553549  0.32597214]]\n"
     ]
    }
   ],
   "source": [
    "#We can also of course perform SVD decomposition\n",
    "#Let's put some random numbers into a 3x3 matrix\n",
    "m1=np.random.random((3,3));\n",
    "print(m1)\n",
    "#Then off we go with SVD\n",
    "u, s, vh = LA.svd(m1);\n",
    "print(\"SVD_u\\n\",u)\n",
    "print(\"SVD_s\\n\",np.diag(s))\n",
    "print(\"SVD_vh\\n\",vh) # v hermitian\n",
    "#Notice that s is a diagonal matrix and Python return it\n",
    "#in shorthand notation - just the diagonal elements\n",
    "# to see s as a matrix I had to rebuild its full matrix form\n",
    "#using np.diag()"
   ]
  },
  {
   "cell_type": "code",
   "execution_count": 63,
   "id": "academic-providence",
   "metadata": {},
   "outputs": [
    {
     "name": "stdout",
     "output_type": "stream",
     "text": [
      "Reconstruction\n",
      " [[0.92371634 0.43187018 0.09394485]\n",
      " [0.94100628 0.66324192 0.07077429]\n",
      " [0.57997633 0.67693391 0.90490495]]\n"
     ]
    }
   ],
   "source": [
    "#Let's check that this worked\n",
    "print(\"Reconstruction\\n\",np.dot(u,np.dot(np.diag(s),vh)))"
   ]
  },
  {
   "cell_type": "code",
   "execution_count": 64,
   "id": "graphic-affair",
   "metadata": {},
   "outputs": [
    {
     "name": "stdout",
     "output_type": "stream",
     "text": [
      "QR_q\n",
      " [[-0.64123513  0.57508627  0.50802883]\n",
      " [-0.65323764 -0.06173723 -0.75463176]\n",
      " [-0.40261407 -0.81575995  0.41525608]]\n",
      "QR_r\n",
      " [[-1.44052672 -0.98272804 -0.47080063]\n",
      " [ 0.         -0.34479969 -0.68852823]\n",
      " [ 0.          0.          0.37008544]]\n"
     ]
    }
   ],
   "source": [
    "#Let's do QR decomposition\n",
    "q, r = LA.qr(m1)\n",
    "print(\"QR_q\\n\",q)\n",
    "print(\"QR_r\\n\",r)"
   ]
  },
  {
   "cell_type": "code",
   "execution_count": 65,
   "id": "nonprofit-folks",
   "metadata": {},
   "outputs": [
    {
     "name": "stdout",
     "output_type": "stream",
     "text": [
      "Reconstruction\n",
      " [[0.92371634 0.43187018 0.09394485]\n",
      " [0.94100628 0.66324192 0.07077429]\n",
      " [0.57997633 0.67693391 0.90490495]]\n"
     ]
    }
   ],
   "source": [
    "#And let's check that it worked\n",
    "print(\"Reconstruction\\n\",np.dot(q,r))"
   ]
  },
  {
   "cell_type": "code",
   "execution_count": 66,
   "id": "other-contributor",
   "metadata": {
    "scrolled": true
   },
   "outputs": [
    {
     "data": {
      "image/png": "[encoded data removed]",
      "text/plain": [
       "<Figure size 432x288 with 1 Axes>"
      ]
     },
     "metadata": {
      "needs_background": "light"
     },
     "output_type": "display_data"
    }
   ],
   "source": [
    "#Almost done. The last thing we need is plotting.\n",
    "#This is done using another 3rd party package\n",
    "#called matplotlib\n",
    "import numpy as np\n",
    "import matplotlib.pyplot as plt\n",
    "#Let's say our data is basically y=x\n",
    "xaxis=np.arange(0,10)\n",
    "trend=np.arange(0,10)\n",
    "#but it also has some noise to make things more interesting\n",
    "noise=np.random.normal(0, 1, 10)\n",
    "#Let's initialize a figure for plotting\n",
    "fig = plt.figure()\n",
    "#Within the figure, we will initialize the axes\n",
    "ax = fig.add_axes([0,0,1,1])\n",
    "#Now we can plot our data\n",
    "#Since this is dat, we just plot the dots\n",
    "#We do not guide the eye and do not connect the dots\n",
    "ax.plot(np.arange(0,10),trend+noise,'.')\n",
    "#label the axes\n",
    "plt.ylabel('Some noisy dependent variable')\n",
    "plt.xlabel('Some independent variable')\n",
    "#Let's also plot the underlying linear trend in red\n",
    "plt.plot(np.arange(0,10),trend,'r')\n",
    "#Now we are ready to show the plot to the user\n",
    "plt.show()"
   ]
  },
  {
   "cell_type": "code",
   "execution_count": 67,
   "id": "opened-tunnel",
   "metadata": {},
   "outputs": [
    {
     "data": {
      "image/png": "[encoded data removed]",
      "text/plain": [
       "<Figure size 432x288 with 1 Axes>"
      ]
     },
     "metadata": {
      "needs_background": "light"
     },
     "output_type": "display_data"
    }
   ],
   "source": [
    "#How about a different type of a plot?\n",
    "fig = plt.figure()\n",
    "ax = fig.add_axes([0,0,1,1])\n",
    "Grade_Letters = ['A', 'A-', 'B+', 'B', 'B-']\n",
    "Grade_Numbers = [1,4,12,7,2]\n",
    "ax.bar(Grade_Letters,Grade_Numbers)\n",
    "plt.ylabel('Some hypothetical counts')\n",
    "plt.show()\n",
    "#This is a bar plot. "
   ]
  },
  {
   "cell_type": "code",
   "execution_count": 68,
   "id": "theoretical-column",
   "metadata": {
    "scrolled": true
   },
   "outputs": [
    {
     "data": {
      "image/png": "[encoded data removed]",
      "text/plain": [
       "<Figure size 432x288 with 1 Axes>"
      ]
     },
     "metadata": {
      "needs_background": "light"
     },
     "output_type": "display_data"
    }
   ],
   "source": [
    "#Can we plot a 3D surface? Of course we can\n",
    "#First we define a equally spaced vector of values\n",
    "#between -2 and 2. I asked for 30 values in between.\n",
    "#The function np.linspace() does all that for us.\n",
    "#This vector goes over x-axis values\n",
    "x = np.linspace(-2, 2, 30)\n",
    "#Same for y axis\n",
    "y = np.linspace(-2, 2, 30)\n",
    "#np.meshgrid() basically creates all possible pairings\n",
    "#of x and y values which makes calculating z values easy\n",
    "xv, yv = np.meshgrid(x, y)\n",
    "zv = np.cos(np.power(xv,2) + np.power(yv,2))\n",
    "#Now we are ready to plot\n",
    "a\n",
    "plt.show()"
   ]
  }
 ],
 "metadata": {
  "kernelspec": {
   "display_name": "Python 3 (ipykernel)",
   "language": "python",
   "name": "python3"
  },
  "language_info": {
   "codemirror_mode": {
    "name": "ipython",
    "version": 3
   },
   "file_extension": ".py",
   "mimetype": "text/x-python",
   "name": "python",
   "nbconvert_exporter": "python",
   "pygments_lexer": "ipython3",
   "version": "3.9.10"
  }
 },
 "nbformat": 4,
 "nbformat_minor": 5
}
