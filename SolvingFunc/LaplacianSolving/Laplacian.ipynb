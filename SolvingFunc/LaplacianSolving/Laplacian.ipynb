{
 "cells": [
  {
   "cell_type": "code",
   "execution_count": 1,
   "metadata": {},
   "outputs": [],
   "source": [
    "### import packages ###\n",
    "import numpy as np\n",
    "import matplotlib.pyplot as plt\n",
    "import matplotlib\n",
    "import os\n",
    "import time\n",
    "from scipy.integrate import odeint\n",
    "from scipy import linalg"
   ]
  },
  {
   "cell_type": "code",
   "execution_count": 2,
   "metadata": {},
   "outputs": [],
   "source": [
    "### parameters ###\n",
    "nbins = 10000\n",
    "rmin  =  0.0\n",
    "rmax  = 10.0\n",
    "dr    =  (rmax-rmin)/float(nbins)\n",
    "r = np.arange(rmin,rmax,dr)"
   ]
  },
  {
   "cell_type": "code",
   "execution_count": 3,
   "metadata": {},
   "outputs": [],
   "source": [
    "### define right hand side \"source\" term S ###\n",
    "rho = np.zeros(nbins)\n",
    "rho[r<1] = 1.\n",
    "RHS = 4*np.pi*dr*dr*rho"
   ]
  },
  {
   "cell_type": "markdown",
   "metadata": {},
   "source": [
    "$V'(r)$ and $V''(r)$ should be calculate in their second order finite difference approximation.\n",
    "\n",
    "$\\partial_r V_i = \\frac{V_{i+1}-V_{i-1}}{2\\Delta r}$ and $\\partial_r^2 V_i = \\frac{V_{i+1}-2V_{i}+V_{i-1}}{(\\Delta r)^2}$"
   ]
  },
  {
   "cell_type": "markdown",
   "metadata": {},
   "source": [
    "$V''(r)+\\frac{2}{r}V'(r)=4\\pi \\rho (r)$\n",
    "\n",
    "By simplification,\n",
    "\n",
    "$\\frac{V_{i+1}-2V_{i}+V_{i-1}}{(\\Delta r)^2}+\\frac{2}{r_i} \\frac{V_{i+1}-V_{i-1}}{2\\Delta r}=4\\pi \\rho (r_i)$\n",
    "\n",
    "$V_{i+1}-2V_{i}+V_{i-1}+\\frac{\\Delta r}{r_i}(V_{i+1}-V_{i-1}) = 4\\pi (\\Delta r)^2 \\rho (r_i)$\n",
    "\n",
    "$(1-\\frac{\\Delta r}{r_i})V_{i-1}-2V_{i}+(1+\\frac{\\Delta r}{r_i})V_{i+1} = 4\\pi (\\Delta r)^2 \\rho (r_i)$"
   ]
  },
  {
   "cell_type": "markdown",
   "metadata": {},
   "source": [
    "Apply Neuman boundary conditions at the origin.\\\n",
    " ***You need to substitute the number for main equation due to the limitation of r to 0***\n",
    "\n",
    "$\\partial_r V = 0$ with respect to $r\\rightarrow 0$, so $V_{-1} = V_{0}$\n",
    "\n",
    "$\\frac{V_{1}-2V_{0}+V_{-1}}{(\\Delta r)^2} + 0=4\\pi \\rho (r_0)$\n",
    "\n",
    "$-V_0 + V_1 = 4\\pi (\\Delta r)^2 \\rho (r_0)$"
   ]
  },
  {
   "cell_type": "markdown",
   "metadata": {},
   "source": [
    "Apply Robin conditions at the outer edge.\n",
    "\n",
    "$\\partial_r (rV) = 0$ with respect to $r\\rightarrow r_n$, so $V_{n+1} = \\frac{r_n}{r_{n+1}} V_{n}=\\frac{r_n}{r_{n}+\\Delta r} V_{n}$\n",
    "\n",
    "$(1-\\frac{\\Delta r}{r_n})V_{n-1}-2V_{n}+\\frac{\\Delta r+ r_n}{r_n}V_{n+1} = 4\\pi (\\Delta r)^2 \\rho (r_n)$\n",
    "\n",
    "$(1-\\frac{\\Delta r}{r_n})V_{n-1}-V_{n} = 4\\pi (\\Delta r)^2 \\rho (r_n)$"
   ]
  },
  {
   "cell_type": "code",
   "execution_count": 4,
   "metadata": {},
   "outputs": [
    {
     "name": "stdout",
     "output_type": "stream",
     "text": [
      "The Laplace Matrix A is:\n",
      "[[-1.          1.          0.         ...  0.          0.\n",
      "   0.        ]\n",
      " [ 0.         -2.          2.         ...  0.          0.\n",
      "   0.        ]\n",
      " [ 0.          0.5        -2.         ...  0.          0.\n",
      "   0.        ]\n",
      " ...\n",
      " [ 0.          0.          0.         ... -2.          1.00010003\n",
      "   0.        ]\n",
      " [ 0.          0.          0.         ...  0.99989998 -2.\n",
      "   1.00010002]\n",
      " [ 0.          0.          0.         ...  0.          0.99989999\n",
      "  -1.        ]]\n"
     ]
    }
   ],
   "source": [
    "### define matrix A on left hand side ###\n",
    "M = np.full((nbins, nbins), 0.0)  # define nbins x nbins matrix with components initialized to zero  \n",
    "for i in range(nbins):\n",
    "    if i == 0:\n",
    "        M[0,0] = -1.\n",
    "        M[0,1] = 1.\n",
    "    elif i == nbins-1 :\n",
    "        M[i,i-1] = 1.-dr/r[-1]\n",
    "        M[i,i] = -1.\n",
    "    else:\n",
    "        M[i,i-1] = 1.-dr/r[i]\n",
    "        M[i,i] = -2.\n",
    "        M[i,i+1] = 1.+dr/r[i]\n",
    "print('The Laplace Matrix A is:')\n",
    "print(M)"
   ]
  },
  {
   "cell_type": "code",
   "execution_count": 5,
   "metadata": {},
   "outputs": [
    {
     "name": "stdout",
     "output_type": "stream",
     "text": [
      "number of bins =  10000\n",
      "time to solve  =  8.929836750030518 seconds\n"
     ]
    }
   ],
   "source": [
    "### solve for f(x) ###\n",
    "tstart = time.time()\n",
    "V = linalg.solve(M,RHS)\n",
    "tstop = time.time()\n",
    "print(\"number of bins = \",nbins)\n",
    "print(\"time to solve  = \",tstop-tstart,\"seconds\")"
   ]
  },
  {
   "cell_type": "code",
   "execution_count": 6,
   "metadata": {},
   "outputs": [
    {
     "name": "stdout",
     "output_type": "stream",
     "text": [
      "The error of the solution\n",
      "c - rho:\n",
      "[-4.02022859e-12 -4.02022859e-12 -4.02022859e-12 ... -8.83487412e-12\n",
      " -8.83487412e-12  4.41743706e-12]\n"
     ]
    }
   ],
   "source": [
    "### check: should recover initial rho ###\n",
    "c = M.dot(V)/dr/dr/4/np.pi ### check A*f=dx*dx*S\n",
    "if(True):\n",
    "    print('The error of the solution')\n",
    "    print(\"c - rho:\")\n",
    "    print(c-rho)"
   ]
  },
  {
   "cell_type": "markdown",
   "metadata": {},
   "source": [
    "Analytical solution of this question:\n",
    "\n",
    "$V(r) = \\frac{2 \\pi r^2}{3} - 2\\pi$ with respect to $(0 < r \\leq 1)$\n",
    "\n",
    "$V(r) = -\\frac{4 \\pi}{3r}$ with respect to $(1 < r \\leq 10)$"
   ]
  },
  {
   "cell_type": "code",
   "execution_count": 7,
   "metadata": {},
   "outputs": [],
   "source": [
    "### The analytical answer ###\n",
    "V_ana = np.append(2*np.pi*(r[r<=1])**2/3-2*np.pi,-4*np.pi/3/r[r>1])"
   ]
  },
  {
   "cell_type": "code",
   "execution_count": 8,
   "metadata": {},
   "outputs": [
    {
     "data": {
      "image/png": "[encoded data removed]",
      "text/plain": [
       "<Figure size 1008x648 with 4 Axes>"
      ]
     },
     "metadata": {
      "needs_background": "light"
     },
     "output_type": "display_data"
    }
   ],
   "source": [
    "### plot the results ### \n",
    "    \n",
    "fig,ax = plt.subplots(2,2,figsize=(14,9))\n",
    "\n",
    "ax[0,0].plot(r,rho)\n",
    "ax[0,0].set_ylabel(r\"$\\rho(r)$\")\n",
    "ax[0,0].set(xlim=[-.5,10.5],ylim=[-0.1,1.1])\n",
    "ax[0,0].grid()\n",
    "\n",
    "ax[1,0].plot(r,V,label='numerical')\n",
    "ax[1,0].set_xlabel(\"$r$\")\n",
    "ax[1,0].set_ylabel(\"$V(r)$\")\n",
    "ax[1,0].set(xlim=[-.5,10.5],ylim=[-7,0])\n",
    "ax[1,0].grid()\n",
    "ax[1,0].legend()\n",
    "\n",
    "ax[0,1].plot(r,V,label='numerical')\n",
    "ax[0,1].plot(r,V_ana,label='analytical')\n",
    "ax[0,1].set_ylabel(\"$V(r)$\")\n",
    "ax[0,1].set(xlim=[-.5,10.5],ylim=[-7,0])\n",
    "ax[0,1].grid()\n",
    "ax[0,1].legend()\n",
    "\n",
    "ax[1,1].plot(r,V-V_ana,label='difference: dr=%.3f'%(dr))\n",
    "ax[1,1].set_ylabel(r\"$\\Delta V(r)$\")\n",
    "ax[1,1].set_xlabel(\"$r$\")\n",
    "ax[1,1].set(xlim=[-.5,10.5])\n",
    "ax[1,1].grid()\n",
    "ax[1,1].legend()\n",
    "\n",
    "plt.show()"
   ]
  },
  {
   "cell_type": "code",
   "execution_count": null,
   "metadata": {},
   "outputs": [],
   "source": []
  }
 ],
 "metadata": {
  "interpreter": {
   "hash": "aee8b7b246df8f9039afb4144a1f6fd8d2ca17a180786b69acc140d282b71a49"
  },
  "kernelspec": {
   "display_name": "Python 3.9.12 64-bit",
   "language": "python",
   "name": "python3"
  },
  "language_info": {
   "codemirror_mode": {
    "name": "ipython",
    "version": 3
   },
   "file_extension": ".py",
   "mimetype": "text/x-python",
   "name": "python",
   "nbconvert_exporter": "python",
   "pygments_lexer": "ipython3",
   "version": "3.9.12"
  },
  "orig_nbformat": 4
 },
 "nbformat": 4,
 "nbformat_minor": 2
}
