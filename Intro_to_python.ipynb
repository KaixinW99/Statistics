{
 "cells": [
  {
   "cell_type": "code",
   "execution_count": 117,
   "metadata": {},
   "outputs": [
    {
     "name": "stdout",
     "output_type": "stream",
     "text": [
      "1\n",
      "2\n",
      "3\n",
      "4\n",
      "5\n",
      "done looping\n",
      "6 4\n"
     ]
    }
   ],
   "source": [
    "### whitespace formatting ###\n",
    "for i in [1,2,3,4,5]:\n",
    "\tprint (i) ### indetation ###\n",
    "print(\"done looping\")\n",
    "clear_computation = (1 + 2 + 3) ### whitespace ###\n",
    "long_computation = 1 + \\\n",
    "                   3 ### backslash to continue on a new line ###\n",
    "print(clear_computation,long_computation)"
   ]
  },
  {
   "cell_type": "code",
   "execution_count": 118,
   "metadata": {},
   "outputs": [],
   "source": [
    "### modules ###\n",
    "from re import * ### containing functions and constants for regular expressions ###\n",
    "import numpy as np ### array and matrix calculation ###\n",
    "import scipy as Sci ### data science package ###\n",
    "import sympy as sym ### similar to mathematica ###\n",
    "import matplotlib.pyplot as plt ### visualizing data with matplotlib ###\n",
    "from collections import defaultdict, Counter ### data analyzing ###"
   ]
  },
  {
   "cell_type": "code",
   "execution_count": 119,
   "metadata": {},
   "outputs": [
    {
     "name": "stdout",
     "output_type": "stream",
     "text": [
      "2.5\n",
      "2\n",
      "1\n",
      "25\n"
     ]
    }
   ],
   "source": [
    "### arithmetic ###\n",
    "print(5/2)\n",
    "print(5//2)\n",
    "print(5%2)\n",
    "print(5**2)"
   ]
  },
  {
   "cell_type": "code",
   "execution_count": 120,
   "metadata": {},
   "outputs": [
    {
     "name": "stdout",
     "output_type": "stream",
     "text": [
      "2\n",
      "5\n",
      "------------------------------------\n",
      "hello\n",
      "default\n"
     ]
    }
   ],
   "source": [
    "### functions ###\n",
    "def double(x): return 2*x\n",
    "def apply_to_one(f):\n",
    "\treturn f(1)\n",
    "print(apply_to_one(double)) ### equals 2 ###\n",
    "print(apply_to_one(lambda x: x+4)) ### equals 5 ###\n",
    "print('------------------------------------')\n",
    "\n",
    "def my_print(message='default'): print(message)\n",
    "my_print('hello') ### output: hello ###\n",
    "my_print() ### output: default ###"
   ]
  },
  {
   "cell_type": "code",
   "execution_count": 121,
   "metadata": {},
   "outputs": [
    {
     "name": "stdout",
     "output_type": "stream",
     "text": [
      "1\n",
      "2\n",
      "First,\n",
      "second\n",
      "and last one\n"
     ]
    }
   ],
   "source": [
    "### strings ###\n",
    "single_quoted = 'data science'\n",
    "double_quoted = \"data science\"\n",
    "tab_string = '\\t'; print(len(tab_string)) ### tab character ###\n",
    "not_tab_string = r'\\t'; print(len(not_tab_string)) ### pure \\t ###\n",
    "\n",
    "multi_lines = '''First,\n",
    "second\n",
    "and last one''' ### create multiline strings ###\n",
    "print(multi_lines)"
   ]
  },
  {
   "cell_type": "code",
   "execution_count": 122,
   "metadata": {},
   "outputs": [
    {
     "name": "stdout",
     "output_type": "stream",
     "text": [
      "cannot devide by zero\n"
     ]
    }
   ],
   "source": [
    "### exception ###\n",
    "try:\n",
    "\tprint (2/0)\n",
    "except ZeroDivisionError:\n",
    "\tprint (\"cannot devide by zero\")"
   ]
  },
  {
   "cell_type": "code",
   "execution_count": 123,
   "metadata": {},
   "outputs": [
    {
     "name": "stdout",
     "output_type": "stream",
     "text": [
      "3 6\n",
      "------------------------------------\n",
      "[0, 1, 2, 3, 4, 5, 6, 7, 8, 9]\n",
      "0 1 9 8\n",
      "[-1, 1, 2, 3, 4, 5, 6, 7, 8, 9]\n",
      "False True\n",
      "------------------------------------\n",
      "[-1, 1, 2, 3, 4, 5, 6, 7, 8, 9]\n",
      "[2, 3, 4, 5, 6, 7]\n",
      "------------------------------------\n",
      "[-1, 1, 2, 3, 4, 5, 6, 7, 8, 9, 10, 11, 12]\n",
      "[-1, 1, 2, 3, 4, 5, 6, 7, 8, 9, 10, 11, 12, 1, 2, 3]\n",
      "[-1, 1, 2, 3, 4, 5, 6, 7, 8, 9, 10, 11, 12, 13]\n",
      "------------------------------------\n",
      "1 2\n",
      "3 4\n",
      "6\n"
     ]
    }
   ],
   "source": [
    "### list ###\n",
    "integer_list = [1,2,3]; print(len(integer_list),sum(integer_list))\n",
    "hetero_list = [\"str\",0.1,True]\n",
    "list_of_lists = [[],integer_list,hetero_list]\n",
    "print('------------------------------------')\n",
    "\n",
    "x=list(range(10)); print(x); print(x[0],x[1],x[-1],x[-2])\n",
    "x[0]=-1; print(x)\n",
    "print(0 in x, 1 in x)\n",
    "print('------------------------------------')\n",
    "\n",
    "print(x[:])\n",
    "print(x[2:-2])\n",
    "print('------------------------------------')\n",
    "\n",
    "x.extend([10,11,12]); print(x)\n",
    "y = x + [1,2,3]; print(y)\n",
    "x.append(13); print(x)\n",
    "print('------------------------------------')\n",
    "\n",
    "x,y = [1,2]; print(x,y)\n",
    "l,m = 3,4; print(l,m)\n",
    "_,k = 5,6; print(k)"
   ]
  },
  {
   "cell_type": "code",
   "execution_count": 124,
   "metadata": {},
   "outputs": [
    {
     "name": "stdout",
     "output_type": "stream",
     "text": [
      "2 1\n"
     ]
    }
   ],
   "source": [
    "### tuples ###\n",
    "x ,y = 1, 2\n",
    "x ,y = y, x ### swap variables ###\n",
    "print(x,y)"
   ]
  },
  {
   "cell_type": "code",
   "execution_count": 125,
   "metadata": {},
   "outputs": [
    {
     "name": "stdout",
     "output_type": "stream",
     "text": [
      "80\n",
      "True\n",
      "------------------------------------\n",
      "80\n",
      "0\n",
      "None\n",
      "------------------------------------\n",
      "dict_keys(['Joel', 'Tim', 'Kate'])\n",
      "dict_values([80, 95, 100])\n",
      "dict_items([('Joel', 80), ('Tim', 95), ('Kate', 100)])\n",
      "------------------------------------\n",
      "True\n",
      "True\n"
     ]
    }
   ],
   "source": [
    "### dictionary ###\n",
    "empty_dict = {}\n",
    "grades = {\"Joel\":80,\"Tim\":95}\n",
    "print(grades[\"Joel\"])\n",
    "print(\"Joel\" in grades)\n",
    "print('------------------------------------')\n",
    "\n",
    "print(grades.get(\"Joel\",0))\n",
    "print(grades.get(\"Kate\",0))\n",
    "print(grades.get(\"Kate\"))\n",
    "print('------------------------------------')\n",
    "\n",
    "grades[\"Kate\"]=100\n",
    "print(grades.keys())\n",
    "print(grades.values())\n",
    "print(grades.items())\n",
    "print('------------------------------------')\n",
    "\n",
    "print(\"Kate\" in grades) ### much quicker than search in grades.key() ###\n",
    "print(100 in grades.values())"
   ]
  },
  {
   "cell_type": "code",
   "execution_count": 126,
   "metadata": {},
   "outputs": [
    {
     "name": "stdout",
     "output_type": "stream",
     "text": [
      "defaultdict(<class 'int'>, {'I': 1, 'want': 1, 'to': 1, 'learn': 1, 'more': 1, 'about': 1, 'chemistry,': 1, 'physics,': 1, 'mathematics': 1, 'and': 1, 'computer': 1, 'science': 1})\n",
      "------------------------------------\n",
      "defaultdict(<class 'list'>, {2: [1, 1], 'smart': ['intelligent']})\n",
      "------------------------------------\n",
      "defaultdict(<class 'dict'>, {'Joel': {'City': 'Seattle'}})\n",
      "------------------------------------\n",
      "defaultdict(<function <lambda> at 0x11e345430>, {'clever': [0, 0, 1]})\n"
     ]
    }
   ],
   "source": [
    "### defaultdict ###\n",
    "from collections import defaultdict\n",
    "document = \"I want to learn more about chemistry, physics, mathematics and computer science\".split()\n",
    "word_counts = defaultdict(int) ### int() produces 0 ###\n",
    "for word in document:\n",
    "    word_counts[word]+=1\n",
    "print(word_counts)\n",
    "print('------------------------------------')\n",
    "\n",
    "dd_list = defaultdict(list) ### list() produces an empty list ###\n",
    "dd_list[2].append(1)\n",
    "dd_list[2].append(1)\n",
    "dd_list['smart'].append('intelligent')\n",
    "print(dd_list)\n",
    "print('------------------------------------')\n",
    "\n",
    "dd_dict = defaultdict(dict) ### dict() produces an empty dict ###\n",
    "dd_list[2].append(1)\n",
    "dd_dict[\"Joel\"][\"City\"] = \"Seattle\"\n",
    "print(dd_dict)\n",
    "print('------------------------------------')\n",
    "\n",
    "dd_pair = defaultdict(lambda:[0,0,0])\n",
    "dd_pair['clever'][2]=1\n",
    "print(dd_pair)"
   ]
  },
  {
   "cell_type": "code",
   "execution_count": 127,
   "metadata": {},
   "outputs": [
    {
     "name": "stdout",
     "output_type": "stream",
     "text": [
      "Counter({0: 2, 1: 1, 3: 1})\n",
      "------------------------------------\n",
      "0 2\n",
      "1 1\n"
     ]
    }
   ],
   "source": [
    "### Counter ###\n",
    "from collections import Counter\n",
    "c = Counter([0,1,3,0])\n",
    "print(c)\n",
    "print('------------------------------------')\n",
    "\n",
    "for number, count in c.most_common(2):\n",
    "    print (number, count)"
   ]
  },
  {
   "cell_type": "code",
   "execution_count": 128,
   "metadata": {},
   "outputs": [
    {
     "name": "stdout",
     "output_type": "stream",
     "text": [
      "{1, 2}\n"
     ]
    }
   ],
   "source": [
    "### sets ###\n",
    "s = set()\n",
    "s.add(1)\n",
    "s.add(2)\n",
    "s.add(1)\n",
    "print(s)"
   ]
  },
  {
   "cell_type": "code",
   "execution_count": 129,
   "metadata": {},
   "outputs": [
    {
     "name": "stdout",
     "output_type": "stream",
     "text": [
      "odd\n"
     ]
    }
   ],
   "source": [
    "### control flow ###\n",
    "x=3\n",
    "parity = \"even\" if x%2==0 else \"odd\"\n",
    "print(parity)"
   ]
  },
  {
   "cell_type": "code",
   "execution_count": 130,
   "metadata": {},
   "outputs": [
    {
     "name": "stdout",
     "output_type": "stream",
     "text": [
      "\n",
      "------------------------------------\n",
      "9\n",
      "------------------------------------\n",
      "True\n",
      "False\n"
     ]
    }
   ],
   "source": [
    "### truthiness ###\n",
    "s = ''\n",
    "first_char = s and s[0]\n",
    "print(first_char)\n",
    "print('------------------------------------')\n",
    "\n",
    "x = 9\n",
    "safe_x = x or 0\n",
    "print(safe_x)\n",
    "print('------------------------------------')\n",
    "\n",
    "print(all([]))\n",
    "print(any([]))"
   ]
  },
  {
   "cell_type": "code",
   "execution_count": 131,
   "metadata": {},
   "outputs": [
    {
     "name": "stdout",
     "output_type": "stream",
     "text": [
      "[1, 2, 3, 4]\n",
      "None [1, 2, 3, 4]\n",
      "------------------------------------\n",
      "[-4, 3, -2, 1]\n",
      "['cat', 'dog', 'cat', 'dog', 'lion', 'tiger', 'rabit', 'cat', 'ant', 'snake']\n",
      "defaultdict(<class 'int'>, {'cat': 3, 'dog': 2, 'lion': 1, 'tiger': 1, 'rabit': 1, 'ant': 1, 'snake': 1})\n",
      "dict_items([('cat', 3), ('dog', 2), ('lion', 1), ('tiger', 1), ('rabit', 1), ('ant', 1), ('snake', 1)])\n",
      "[('cat', 3), ('dog', 2), ('lion', 1), ('tiger', 1), ('rabit', 1), ('ant', 1), ('snake', 1)]\n"
     ]
    }
   ],
   "source": [
    "### Sorting ###\n",
    "x = [4,1,3,2]\n",
    "print(sorted(x))\n",
    "x = [4,1,3,2]\n",
    "x.sort()\n",
    "print(x.sort(),x)\n",
    "print('------------------------------------')\n",
    "\n",
    "print(sorted([-4,1,-2,3],key=abs,reverse=True))\n",
    "document = \"Cat dog cat dog lion tiger rabit cat ant snake.\"\n",
    "document_list = [x.strip(',.\\t') for x in document.lower().split()]\n",
    "from collections import defaultdict\n",
    "word_counts = defaultdict(int)\n",
    "for word in document_list:\n",
    "    word_counts[word] += 1\n",
    "print(document_list)\n",
    "print(word_counts)\n",
    "print(word_counts.items())\n",
    "print(sorted(word_counts.items(),key=lambda x:x[1] ,reverse=True))"
   ]
  },
  {
   "cell_type": "code",
   "execution_count": 132,
   "metadata": {},
   "outputs": [
    {
     "name": "stdout",
     "output_type": "stream",
     "text": [
      "[0, 4, 16]\n",
      "{0: 0, 2: 4, 4: 16}\n",
      "{1}\n",
      "1000\n",
      "[(0, 1), (0, 2), (0, 3), (0, 4), (0, 5), (0, 6), (0, 7), (0, 8), (0, 9), (1, 2), (1, 3), (1, 4), (1, 5), (1, 6), (1, 7), (1, 8), (1, 9), (2, 3), (2, 4), (2, 5), (2, 6), (2, 7), (2, 8), (2, 9), (3, 4), (3, 5), (3, 6), (3, 7), (3, 8), (3, 9), (4, 5), (4, 6), (4, 7), (4, 8), (4, 9), (5, 6), (5, 7), (5, 8), (5, 9), (6, 7), (6, 8), (6, 9), (7, 8), (7, 9), (8, 9)]\n"
     ]
    }
   ],
   "source": [
    "### list comprehensions ###\n",
    "square_even_list = [x**2 for x in range(5) if x%2==0]; print(square_even_list)\n",
    "square_ever_dict = {x: x*x for x in range(5) if x%2==0}; print(square_ever_dict)\n",
    "square_set = {x*x for x in [-1,1]}; print(square_set)\n",
    "pairs = [(x,y,0) for x in range(10) for y in range(10) for _ in range(10)]; print(len(pairs))\n",
    "increasing_pairs = [(x,y) for x in range(10) for y in range(x+1,10)]; print(increasing_pairs)"
   ]
  },
  {
   "cell_type": "code",
   "execution_count": 133,
   "metadata": {},
   "outputs": [
    {
     "name": "stdout",
     "output_type": "stream",
     "text": [
      "1\n",
      "2\n",
      "3\n",
      "4\n",
      "5\n",
      "6\n",
      "7\n",
      "8\n",
      "9\n",
      "10\n",
      "------------------------------------\n",
      "1\n",
      "2\n",
      "3\n"
     ]
    }
   ],
   "source": [
    "### generators and iterators ###\n",
    "def lazy_range(n):\n",
    "    i = 0\n",
    "    while i<n:\n",
    "        yield i\n",
    "        i+=1\n",
    "for i in lazy_range(10):\n",
    "    print(i+1)\n",
    "print('------------------------------------')\n",
    "\n",
    "def natural_numbers():\n",
    "    '''an infinite sequence'''\n",
    "    n = 1\n",
    "    while True:\n",
    "        yield n\n",
    "        n+=1\n",
    "gen = natural_numbers()\n",
    "print(next(gen))\n",
    "print(next(gen))\n",
    "print(next(gen))"
   ]
  },
  {
   "cell_type": "code",
   "execution_count": 134,
   "metadata": {},
   "outputs": [
    {
     "name": "stdout",
     "output_type": "stream",
     "text": [
      "0.5714025946899135\n",
      "0.5714025946899135\n",
      "------------------------------------\n"
     ]
    },
    {
     "data": {
      "text/plain": [
       "' the following random would be same because we define the seed number '"
      ]
     },
     "execution_count": 134,
     "metadata": {},
     "output_type": "execute_result"
    }
   ],
   "source": [
    "### randomness ###\n",
    "import random\n",
    "random.seed(10)\n",
    "print(random.random())\n",
    "random.seed(10)\n",
    "print(random.random())\n",
    "print('------------------------------------')\n",
    "''' the following random would be same because we define the seed number '''"
   ]
  },
  {
   "cell_type": "code",
   "execution_count": 135,
   "metadata": {},
   "outputs": [
    {
     "name": "stdout",
     "output_type": "stream",
     "text": [
      "52\n",
      "[4, 5, 8, 1, 2, 6, 9, 3, 0, 7]\n",
      "[6, 5, 1, 7, 8, 4, 3, 2, 0, 9]\n",
      "[2, 0, 8, 5, 1, 1, 2, 0, 8, 2]\n"
     ]
    }
   ],
   "source": [
    "### randomness ###\n",
    "''' the following random would be same because we define the seed number '''\n",
    "print(random.randrange(-2,100)) ### random integer from a to b\n",
    "up_to_ten = list(range(10))\n",
    "random.shuffle(up_to_ten) ### reorders the elements of a list (attribute)\n",
    "print(up_to_ten)\n",
    "print(random.sample(up_to_ten,10)) ### choose without replacement (no duplicate) ###\n",
    "print(random.choices(up_to_ten,weights=None,cum_weights=None,k=10)) ### choose with replacement (allowing duplicate) ###"
   ]
  },
  {
   "cell_type": "code",
   "execution_count": 136,
   "metadata": {},
   "outputs": [
    {
     "name": "stdout",
     "output_type": "stream",
     "text": [
      "True\n"
     ]
    }
   ],
   "source": [
    "### regular expressions ###\n",
    "import re\n",
    "print (all([\n",
    "        not re.match(\"a\",\"cat\"),            ### 'b' starts with 'a'\n",
    "        re.search(\"a\",\"cat\"),               ### 'b' has letter 'a'\n",
    "        len(re.split(\"[ab]\",\"carbs\"))==3,   ### split on a and b\n",
    "        re.sub(\"[0-9]\",\"-\",\"R2D2\")=='R-D-'  ### replace digits with dashes\n",
    "]))"
   ]
  },
  {
   "cell_type": "code",
   "execution_count": 137,
   "metadata": {},
   "outputs": [
    {
     "name": "stdout",
     "output_type": "stream",
     "text": [
      "Set:dict_keys([1, 2, 4, 5, 6, 10])\n",
      "True\n"
     ]
    }
   ],
   "source": [
    "### class ###\n",
    "class Set:\n",
    "    def __init__(self,values=None):\n",
    "        self.shit_dict={} ### each instance of Set has its own dict property which is to track memberships ###\n",
    "        if values is not None:\n",
    "            for value in values:\n",
    "                self.add(value)\n",
    "    def __repr__(self):\n",
    "        return \"Set:\" + str(self.shit_dict.keys())\n",
    "    def add(self,value):\n",
    "        self.shit_dict[value]=True\n",
    "    def contains(self,value):\n",
    "        return value in self.shit_dict\n",
    "    def remove(self,value):\n",
    "        del self.shit_dict[value]\n",
    "\n",
    "if __name__ == \"__main__\":\n",
    "    s = Set([1,2,3,4,5,5,6,6])\n",
    "    s.add(10)\n",
    "    s.remove(3)\n",
    "    print(s)\n",
    "    print(s.contains(10))"
   ]
  },
  {
   "cell_type": "code",
   "execution_count": 151,
   "metadata": {},
   "outputs": [
    {
     "name": "stdout",
     "output_type": "stream",
     "text": [
      "8\n",
      "9\n",
      "------------------------------------\n",
      "[2, 4, 6, 8]\n",
      "[4, 10]\n",
      "------------------------------------\n",
      "[False, True, False, True]\n",
      "[2, 4]\n",
      "------------------------------------\n",
      "24\n",
      "[1, 2, 6, 24]\n"
     ]
    }
   ],
   "source": [
    "### Functional Tools ###\n",
    "def exp(base,power):\n",
    "    return base**power\n",
    "from functools import partial\n",
    "two_to_the = partial(exp,base=2)\n",
    "square_of = partial(exp,power=2)\n",
    "print(two_to_the(power=3))\n",
    "print(square_of(base=3))\n",
    "print('------------------------------------')\n",
    "\n",
    "### map ###\n",
    "def double(x): return 2*x\n",
    "def multiply(x,y): return x*y\n",
    "xs = [1,2,3,4]\n",
    "print(list(map(double,xs)))\n",
    "print(list(map(multiply,[1,2],[4,5])))\n",
    "print('------------------------------------')\n",
    "\n",
    "### filter ###\n",
    "def is_even(x): return x%2==0\n",
    "print(list(map(is_even,xs)))\n",
    "print(list(filter(is_even,xs)))\n",
    "print('------------------------------------')\n",
    "\n",
    "### reduce ###\n",
    "from functools import reduce\n",
    "print(reduce(multiply,xs)) \n",
    "from itertools import accumulate\n",
    "print(list(accumulate(xs,multiply)))"
   ]
  },
  {
   "cell_type": "code",
   "execution_count": 155,
   "metadata": {},
   "outputs": [
    {
     "name": "stdout",
     "output_type": "stream",
     "text": [
      "0 1\n",
      "1 2\n",
      "2 3\n",
      "3 4\n",
      "4 5\n",
      "------------------------------------\n",
      "0\n",
      "1\n",
      "2\n",
      "3\n",
      "4\n"
     ]
    }
   ],
   "source": [
    "### enumerate ###\n",
    "x = [1,2,3,4,5]\n",
    "for i, content in enumerate(x): print(i,content)\n",
    "print('------------------------------------')\n",
    "for i,_ in enumerate(x): print(i)"
   ]
  },
  {
   "cell_type": "code",
   "execution_count": 160,
   "metadata": {},
   "outputs": [
    {
     "name": "stdout",
     "output_type": "stream",
     "text": [
      "[('a', 1, 'alpha'), ('b', 2, 'beta'), ('c', 3, 'gamma')]\n",
      "('a', 'b', 'c')\n",
      "(1, 2, 3)\n",
      "('alpha', 'beta', 'gamma')\n",
      "------------------------------------\n",
      "3\n"
     ]
    }
   ],
   "source": [
    "### zip and argument unpacking ###\n",
    "list1 = ['a','b','c']\n",
    "list2 = [1,2,3]\n",
    "list3 = ['alpha','beta','gamma']\n",
    "z = list(zip(list1,list2,list3))\n",
    "print(z)\n",
    "letters, numbers, Greek = zip(*z)\n",
    "print(letters)\n",
    "print(numbers)\n",
    "print(Greek)\n",
    "print('------------------------------------')\n",
    "\n",
    "def add(a,b): return a+b\n",
    "print(add(*[1,2])) ### argument unpacking with any function ###"
   ]
  },
  {
   "cell_type": "code",
   "execution_count": 163,
   "metadata": {},
   "outputs": [
    {
     "name": "stdout",
     "output_type": "stream",
     "text": [
      "6\n",
      "6\n"
     ]
    }
   ],
   "source": [
    "### args and kwargs ###\n",
    "def magic(x,y,z): return x+y+z\n",
    "x_y_list = [1,2]\n",
    "z_dict = {\"z\": 3}\n",
    "print(magic(*x_y_list,**z_dict))\n",
    "\n",
    "def doubler_correct(f):\n",
    "    def g(*args,**kwargs):\n",
    "        return 2*f(*args,**kwargs)\n",
    "    return g\n",
    "def helper(x,y): return x+y\n",
    "print(doubler_correct(helper)(1,2))"
   ]
  }
 ],
 "metadata": {
  "interpreter": {
   "hash": "aee8b7b246df8f9039afb4144a1f6fd8d2ca17a180786b69acc140d282b71a49"
  },
  "kernelspec": {
   "display_name": "Python 3.9.12 64-bit",
   "language": "python",
   "name": "python3"
  },
  "language_info": {
   "codemirror_mode": {
    "name": "ipython",
    "version": 3
   },
   "file_extension": ".py",
   "mimetype": "text/x-python",
   "name": "python",
   "nbconvert_exporter": "python",
   "pygments_lexer": "ipython3",
   "version": "3.9.12"
  },
  "orig_nbformat": 4
 },
 "nbformat": 4,
 "nbformat_minor": 2
}
